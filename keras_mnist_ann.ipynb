{
  "nbformat": 4,
  "nbformat_minor": 0,
  "metadata": {
    "colab": {
      "name": "keras_mnist_ann",
      "version": "0.3.2",
      "provenance": []
    },
    "kernelspec": {
      "name": "python3",
      "display_name": "Python 3"
    }
  },
  "cells": [
    {
      "cell_type": "markdown",
      "metadata": {
        "id": "Q9fdCcvyTCCp",
        "colab_type": "text"
      },
      "source": [
        "# Keras로 ANN (Artifitial Neural Network)모델을 이용하여 MNIST (필기체 숫자 데이터) 학습하는 예제\n",
        "\n",
        "\n",
        "---\n",
        "-  Input node: 784,  은닉층 :100, 출력 : 10개를 갖는 ANN 모델\n",
        "-  MNIST 필기체 숫자 데이터는 흑백으로 되어 있으며, 28 x 28 픽셀로 구성되는 Image임  "
      ]
    },
    {
      "cell_type": "markdown",
      "metadata": {
        "id": "gGq1FMOWWyjp",
        "colab_type": "text"
      },
      "source": [
        "## 1. 사용할 모듈 불러오기\n"
      ]
    },
    {
      "cell_type": "code",
      "metadata": {
        "id": "piU_fDGXS5CG",
        "colab_type": "code",
        "outputId": "feb7e385-b4f9-43d6-9c96-cd4f84d114f4",
        "colab": {
          "base_uri": "https://localhost:8080/",
          "height": 34
        }
      },
      "source": [
        "from keras import layers, models;\n",
        "\n",
        "noIn = 784\n",
        "noHL = 100\n",
        "noClass = 10\n",
        "noOut = noClass"
      ],
      "execution_count": 0,
      "outputs": [
        {
          "output_type": "stream",
          "text": [
            "Using TensorFlow backend.\n"
          ],
          "name": "stderr"
        }
      ]
    },
    {
      "cell_type": "markdown",
      "metadata": {
        "id": "qC4ly167WBOy",
        "colab_type": "text"
      },
      "source": [
        "## 2. 학습모델 구성하기\n"
      ]
    },
    {
      "cell_type": "code",
      "metadata": {
        "id": "CLOI776fTHlB",
        "colab_type": "code",
        "outputId": "fd3db824-dd8e-4b32-f21b-d4a1343e55d3",
        "colab": {
          "base_uri": "https://localhost:8080/",
          "height": 224
        }
      },
      "source": [
        "model = models.Sequential()\n",
        "model.add(layers.Dense(noHL, activation = 'relu', input_shape=(noIn, )))\n",
        "model.add(layers.Dense(noOut, activation = 'softmax'))\n",
        "model.compile(loss='categorical_crossentropy', optimizer='adam', metrics=['accuracy'])\n"
      ],
      "execution_count": 0,
      "outputs": [
        {
          "output_type": "stream",
          "text": [
            "WARNING: Logging before flag parsing goes to stderr.\n",
            "W0702 11:07:39.865778 139999805994880 deprecation_wrapper.py:119] From /usr/local/lib/python3.6/dist-packages/keras/backend/tensorflow_backend.py:74: The name tf.get_default_graph is deprecated. Please use tf.compat.v1.get_default_graph instead.\n",
            "\n",
            "W0702 11:07:39.893346 139999805994880 deprecation_wrapper.py:119] From /usr/local/lib/python3.6/dist-packages/keras/backend/tensorflow_backend.py:517: The name tf.placeholder is deprecated. Please use tf.compat.v1.placeholder instead.\n",
            "\n",
            "W0702 11:07:39.896584 139999805994880 deprecation_wrapper.py:119] From /usr/local/lib/python3.6/dist-packages/keras/backend/tensorflow_backend.py:4138: The name tf.random_uniform is deprecated. Please use tf.random.uniform instead.\n",
            "\n",
            "W0702 11:07:39.929272 139999805994880 deprecation_wrapper.py:119] From /usr/local/lib/python3.6/dist-packages/keras/optimizers.py:790: The name tf.train.Optimizer is deprecated. Please use tf.compat.v1.train.Optimizer instead.\n",
            "\n",
            "W0702 11:07:39.955142 139999805994880 deprecation_wrapper.py:119] From /usr/local/lib/python3.6/dist-packages/keras/backend/tensorflow_backend.py:3295: The name tf.log is deprecated. Please use tf.math.log instead.\n",
            "\n"
          ],
          "name": "stderr"
        }
      ]
    },
    {
      "cell_type": "code",
      "metadata": {
        "id": "WKU4WI00XiaH",
        "colab_type": "code",
        "colab": {}
      },
      "source": [
        "# 중간에 module을 불러와도 됩니다.\n",
        "import numpy as np\n",
        "from keras import datasets #mnist\n",
        "from keras.utils import np_utils #to_categorical"
      ],
      "execution_count": 0,
      "outputs": []
    },
    {
      "cell_type": "markdown",
      "metadata": {
        "id": "H75nVWTlYEXP",
        "colab_type": "text"
      },
      "source": [
        "##  3. 데이터 불러오기 및 가공하기"
      ]
    },
    {
      "cell_type": "code",
      "metadata": {
        "id": "bvxYTpT0XqaK",
        "colab_type": "code",
        "outputId": "1bf046f2-6ef7-4a57-f26e-0244c9164402",
        "colab": {
          "base_uri": "https://localhost:8080/",
          "height": 34
        }
      },
      "source": [
        "(X_train, y_train), (X_test, y_test) = datasets.mnist.load_data()\n",
        "\n",
        "X_train.shape, y_train.shape, X_test.shape,y_test.shape,"
      ],
      "execution_count": 0,
      "outputs": [
        {
          "output_type": "execute_result",
          "data": {
            "text/plain": [
              "((60000, 28, 28), (60000,), (10000, 28, 28), (10000,))"
            ]
          },
          "metadata": {
            "tags": []
          },
          "execution_count": 6
        }
      ]
    },
    {
      "cell_type": "code",
      "metadata": {
        "id": "eP6AyLAOX0DU",
        "colab_type": "code",
        "colab": {}
      },
      "source": [
        "Y_train = np_utils.to_categorical(y_train)\n",
        "Y_test = np_utils.to_categorical(y_test)\n",
        "L, W, H = X_train.shape\n",
        "\n",
        "X_train = X_train.reshape(-1, W * H)\n",
        "X_test = X_test.reshape(-1, W * H)\n",
        "\n",
        "X_train  = X_train / 255\n",
        "X_test = X_test / 255"
      ],
      "execution_count": 0,
      "outputs": []
    },
    {
      "cell_type": "markdown",
      "metadata": {
        "id": "RVh2jsnRYzsY",
        "colab_type": "text"
      },
      "source": [
        "## 4. 모델 학습시키기 (Validataion 포함)\n",
        "## 5. 학습된 모델을 사용하여 모델 성능 평가하기 (Test)"
      ]
    },
    {
      "cell_type": "code",
      "metadata": {
        "id": "1Ng5gGx3YrUb",
        "colab_type": "code",
        "outputId": "0b399c8d-a394-4069-a116-cded6e98bbca",
        "colab": {
          "base_uri": "https://localhost:8080/",
          "height": 683
        }
      },
      "source": [
        "history = model.fit(X_train, Y_train, epochs = 15, batch_size = 100, validation_split=0.2)\n",
        "performance_test = model.evaluate(X_test, Y_test, batch_size = 100)\n",
        "                                 \n",
        "print('Model Test Loss and Accuracy -> ', performance_test)"
      ],
      "execution_count": 0,
      "outputs": [
        {
          "output_type": "stream",
          "text": [
            "W0702 11:13:47.707163 139999805994880 deprecation.py:323] From /usr/local/lib/python3.6/dist-packages/tensorflow/python/ops/math_grad.py:1250: add_dispatch_support.<locals>.wrapper (from tensorflow.python.ops.array_ops) is deprecated and will be removed in a future version.\n",
            "Instructions for updating:\n",
            "Use tf.where in 2.0, which has the same broadcast rule as np.where\n",
            "W0702 11:13:47.760819 139999805994880 deprecation_wrapper.py:119] From /usr/local/lib/python3.6/dist-packages/keras/backend/tensorflow_backend.py:986: The name tf.assign_add is deprecated. Please use tf.compat.v1.assign_add instead.\n",
            "\n"
          ],
          "name": "stderr"
        },
        {
          "output_type": "stream",
          "text": [
            "Train on 48000 samples, validate on 12000 samples\n",
            "Epoch 1/15\n",
            "48000/48000 [==============================] - 3s 59us/step - loss: 0.3991 - acc: 0.8923 - val_loss: 0.2119 - val_acc: 0.9416\n",
            "Epoch 2/15\n",
            "48000/48000 [==============================] - 2s 48us/step - loss: 0.1851 - acc: 0.9472 - val_loss: 0.1603 - val_acc: 0.9540\n",
            "Epoch 3/15\n",
            "48000/48000 [==============================] - 2s 48us/step - loss: 0.1361 - acc: 0.9607 - val_loss: 0.1330 - val_acc: 0.9618\n",
            "Epoch 4/15\n",
            "48000/48000 [==============================] - 2s 48us/step - loss: 0.1060 - acc: 0.9699 - val_loss: 0.1194 - val_acc: 0.9647\n",
            "Epoch 5/15\n",
            "48000/48000 [==============================] - 2s 47us/step - loss: 0.0860 - acc: 0.9756 - val_loss: 0.1125 - val_acc: 0.9657\n",
            "Epoch 6/15\n",
            "48000/48000 [==============================] - 3s 53us/step - loss: 0.0722 - acc: 0.9793 - val_loss: 0.1023 - val_acc: 0.9708\n",
            "Epoch 7/15\n",
            "48000/48000 [==============================] - 3s 54us/step - loss: 0.0605 - acc: 0.9825 - val_loss: 0.1004 - val_acc: 0.9685\n",
            "Epoch 8/15\n",
            "48000/48000 [==============================] - 3s 52us/step - loss: 0.0517 - acc: 0.9853 - val_loss: 0.1011 - val_acc: 0.9703\n",
            "Epoch 9/15\n",
            "48000/48000 [==============================] - 2s 50us/step - loss: 0.0436 - acc: 0.9874 - val_loss: 0.0995 - val_acc: 0.9718\n",
            "Epoch 10/15\n",
            "48000/48000 [==============================] - 2s 49us/step - loss: 0.0377 - acc: 0.9899 - val_loss: 0.1005 - val_acc: 0.9722\n",
            "Epoch 11/15\n",
            "48000/48000 [==============================] - 2s 48us/step - loss: 0.0322 - acc: 0.9913 - val_loss: 0.1137 - val_acc: 0.9678\n",
            "Epoch 12/15\n",
            "48000/48000 [==============================] - 2s 48us/step - loss: 0.0283 - acc: 0.9923 - val_loss: 0.0960 - val_acc: 0.9732\n",
            "Epoch 13/15\n",
            "48000/48000 [==============================] - 2s 49us/step - loss: 0.0233 - acc: 0.9944 - val_loss: 0.0958 - val_acc: 0.9728\n",
            "Epoch 14/15\n",
            "48000/48000 [==============================] - 2s 48us/step - loss: 0.0204 - acc: 0.9950 - val_loss: 0.0954 - val_acc: 0.9719\n",
            "Epoch 15/15\n",
            "48000/48000 [==============================] - 2s 47us/step - loss: 0.0184 - acc: 0.9957 - val_loss: 0.0989 - val_acc: 0.9726\n",
            "10000/10000 [==============================] - 0s 17us/step\n",
            "Model Test Loss and Accuracy ->  [0.08432164845362422, 0.9747000056505203]\n"
          ],
          "name": "stdout"
        }
      ]
    },
    {
      "cell_type": "markdown",
      "metadata": {
        "id": "_ZEV3xU8Zcta",
        "colab_type": "text"
      },
      "source": [
        "## 6. 그래프로 학습 과정을 살펴보자"
      ]
    },
    {
      "cell_type": "code",
      "metadata": {
        "id": "4UyCaKclZAMs",
        "colab_type": "code",
        "outputId": "589f3272-def6-439d-9f35-cc587f83c203",
        "colab": {
          "base_uri": "https://localhost:8080/",
          "height": 431
        }
      },
      "source": [
        "import matplotlib\n",
        "\n",
        "import matplotlib.pyplot as plt\n",
        "\n",
        "\n",
        "path = '/usr/share/fonts/truetype/nanum/NanumMyeongjo.ttf'\n",
        "fontprop = matplotlib.font_manager.FontProperties(fname=path, size=14)\n",
        "\n",
        "plt.figure(figsize=(12,6))\n",
        "\n",
        "plt.subplot(121)\n",
        "plt.title('Model Accuracy')\n",
        "plt.ylabel('Accuracy')\n",
        "plt.xlabel('Epoch')\n",
        "plt.plot(history.history['acc'])\n",
        "plt.plot(history.history['val_acc'])\n",
        "plt.legend(['Train', 'Test'], loc=0)\n",
        "\n",
        "plt.subplot(122)\n",
        "plt.title('Model Loss')\n",
        "plt.ylabel('Loss')\n",
        "plt.xlabel('Epoch')\n",
        "plt.plot(history.history['loss'])\n",
        "plt.plot(history.history['val_loss'])\n",
        "plt.legend(['Train', 'Test'], loc=0)\n",
        "plt.suptitle(\"정확도 오류 비교\",fontproperties=fontprop)\n",
        "plt.show()"
      ],
      "execution_count": 0,
      "outputs": [
        {
          "output_type": "display_data",
          "data": {
            "image/png": "[encoded data removed]",
            "text/plain": [
              "<Figure size 864x432 with 2 Axes>"
            ]
          },
          "metadata": {
            "tags": []
          }
        }
      ]
    },
    {
      "cell_type": "code",
      "metadata": {
        "id": "CvBzX8noZnE-",
        "colab_type": "code",
        "colab": {}
      },
      "source": [
        ""
      ],
      "execution_count": 0,
      "outputs": []
    }
  ]
}